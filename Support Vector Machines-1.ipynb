{
 "cells": [
  {
   "cell_type": "markdown",
   "id": "847adbb7-db76-4977-981e-bb4bb638709c",
   "metadata": {},
   "source": [
    "Q1. What is the mathematical formula for a linear SVM?\n"
   ]
  },
  {
   "cell_type": "markdown",
   "id": "77cd065e-f3c9-4607-a19d-30f13d51dd2b",
   "metadata": {},
   "source": [
    "#Answer\n",
    "\n",
    "The mathematical formula for a linear Support Vector Machine (SVM) can be expressed as follows:\n",
    "\n",
    "Given a dataset with n samples and m features, let's define the feature matrix as X (n x m) and the corresponding target vector as y (n x 1), where y_i ∈ {-1, 1} for binary classification.\n",
    "\n",
    "The objective of the linear SVM is to find the optimal hyperplane defined by the equation:\n",
    "\n",
    "w^T * x + b = 0\n",
    "\n",
    "where:\n",
    "\n",
    "w is the weight vector perpendicular to the hyperplane.\n",
    "x is the feature vector.\n",
    "b is the bias term.\n",
    "The decision function can be defined as:\n",
    "\n",
    "f(x) = sign(w^T * x + b)\n",
    "\n",
    "where sign is the sign function, returning +1 if the argument is positive, -1 if it is negative, and 0 if it is zero.\n",
    "\n",
    "The goal of training the SVM is to find the optimal w and b that maximize the margin between the two classes while still correctly classifying the data points."
   ]
  },
  {
   "cell_type": "markdown",
   "id": "d768ab2e-88b4-43b3-a1dd-6c72edbb4923",
   "metadata": {},
   "source": [
    "                      -------------------------------------------------------------------"
   ]
  },
  {
   "cell_type": "markdown",
   "id": "491180f2-5135-481c-9aa5-c7f7f6e92a5f",
   "metadata": {},
   "source": [
    "Q2. What is the objective function of a linear SVM?\n"
   ]
  },
  {
   "cell_type": "markdown",
   "id": "36c8edb9-4e1e-477c-a364-b94ab71036a4",
   "metadata": {},
   "source": [
    "#Answer\n",
    "\n",
    "The objective function of a linear Support Vector Machine (SVM) is to find the optimal hyperplane that maximizes the margin between the two classes. The margin is defined as the distance between the hyperplane and the closest data points of each class, known as support vectors.\n",
    "\n",
    "In the case of a linearly separable dataset, the objective function of a linear SVM is formulated as a constrained optimization problem:\n",
    "\n",
    "Minimize: 1/2 ||w||^2\n",
    "\n",
    "subject to the constraints:\n",
    "\n",
    "y_i * (w^T * x_i + b) >= 1 for all data points (x_i, y_i)\n",
    "\n",
    "where:\n",
    "\n",
    "w is the weight vector.\n",
    "\n",
    "x_i is a data point in the feature space.\n",
    "\n",
    "y_i is the corresponding class label (+1 or -1) of the data point.\n",
    "\n",
    "The objective function aims to minimize the norm of the weight vector ||w||, which represents the margin. The constraints ensure that all data points are correctly classified and lie on or beyond the margin boundaries."
   ]
  },
  {
   "cell_type": "markdown",
   "id": "61e7fe27-1fe2-442b-9990-ddf2b4958328",
   "metadata": {},
   "source": [
    "                      -------------------------------------------------------------------"
   ]
  },
  {
   "cell_type": "markdown",
   "id": "6acec684-dfcf-48b9-919d-91939ae4fe94",
   "metadata": {},
   "source": [
    "Q3. What is the kernel trick in SVM?\n"
   ]
  },
  {
   "cell_type": "markdown",
   "id": "772d565c-385c-439b-9285-61ed94caf9fa",
   "metadata": {},
   "source": [
    "#Answer\n",
    "\n",
    "The kernel trick is a fundamental concept in Support Vector Machines (SVM) that allows SVM to handle non-linearly separable data by implicitly transforming the feature space into a higher-dimensional space. The kernel trick is computationally efficient and avoids explicitly calculating the coordinates of data points in the higher-dimensional space.\n",
    "\n",
    "In its basic form, SVM solves the linearly separable problem using a linear kernel, which is equivalent to a dot product between data points in the original feature space. However, when data points are not linearly separable, the kernel trick is used to implicitly project the data into a higher-dimensional space, where it may become linearly separable.\n",
    "\n",
    "The kernel function K(x, x') is defined to measure the similarity between two data points x and x' in the higher-dimensional space. The most commonly used kernels are:\n",
    "\n",
    "Linear Kernel: K(x, x') = x^T * x'\n",
    "\n",
    "Polynomial Kernel: K(x, x') = (gamma * x^T * x' + r)^d\n",
    "\n",
    "Radial Basis Function (RBF) Kernel: K(x, x') = exp(-gamma * ||x - x'||^2)\n",
    "\n",
    "Here, gamma, r, and d are hyperparameters of the kernel. Choosing the appropriate kernel and tuning the hyperparameters are essential for obtaining good SVM performance on various types of datasets."
   ]
  },
  {
   "cell_type": "markdown",
   "id": "ab68aa9b-06e7-48ba-9454-ab662e3c7fc2",
   "metadata": {},
   "source": [
    "                      -------------------------------------------------------------------"
   ]
  },
  {
   "cell_type": "markdown",
   "id": "603d8454-0f91-4c58-9047-9330eaa2c9b0",
   "metadata": {},
   "source": [
    "Q4. What is the role of support vectors in SVM Explain with example\n"
   ]
  },
  {
   "cell_type": "markdown",
   "id": "a8cc33b3-63e6-4865-85f7-d4d8babbb1e0",
   "metadata": {},
   "source": [
    "#Answer\n",
    "\n",
    "Support vectors play a crucial role in Support Vector Machines (SVM). They are the data points closest to the hyperplane and are critical for defining the decision boundary. In a linear SVM, the hyperplane is determined by these support vectors.\n",
    "\n",
    "Example:\n",
    "\n",
    "Let's consider a simple 2D binary classification problem with two classes, red circles (positive class) and blue squares (negative class). The goal is to find the optimal hyperplane to separate these two classes.\n",
    "\n",
    "In the graph below, the black line represents the optimal hyperplane, and the two dashed lines represent the margins on each side."
   ]
  },
  {
   "cell_type": "markdown",
   "id": "a3e36bba-fac9-4e65-aa18-c215fc9f5d70",
   "metadata": {},
   "source": [
    "              +-------------------------+\n",
    "              |       -   -   -   -   +  |\n",
    "              |  -   -   -   -   +       |\n",
    "              |         -   +   -       +|\n",
    "              |   -   -       +       -  |\n",
    "              |   -       +       -   -  |\n",
    "              +-------------------------+\n",
    "                |       |       |       |\n",
    "              SV      SV      SV      SV\n"
   ]
  },
  {
   "cell_type": "markdown",
   "id": "bc4a6353-2410-4055-a6ee-71e3e2bc293b",
   "metadata": {},
   "source": [
    "In this example, the support vectors are the data points lying on or closest to the margins. They are represented by the letters \"SV\" above the corresponding points. These support vectors are crucial because they define the optimal hyperplane. Removing any non-support vector data points would not change the position of the hyperplane, as they are not affecting the margin boundaries. However, if we remove any of the support vectors, the hyperplane position and the margin size would be affected."
   ]
  },
  {
   "cell_type": "markdown",
   "id": "cefbaf43-6ff9-49ad-b189-2a56c6f188e8",
   "metadata": {},
   "source": [
    "                      -------------------------------------------------------------------"
   ]
  },
  {
   "cell_type": "markdown",
   "id": "d83dbde1-120b-428e-9820-73b17987c381",
   "metadata": {},
   "source": [
    "Q5. Illustrate with examples and graphs of Hyperplane, Marginal plane, Soft margin and Hard margin in\n",
    "SVM?"
   ]
  },
  {
   "cell_type": "markdown",
   "id": "f4c6469c-811c-4261-854e-d172b6171204",
   "metadata": {},
   "source": [
    "#Answer\n",
    "\n",
    "In SVM, the hyperplane is a decision boundary that separates the data points of different classes. The margin is the distance between the hyperplane and the support vectors, which are the data points closest to the hyperplane.\n",
    "\n",
    "Hyperplane and Marginal Plane:\n",
    "\n",
    "Consider a 2D binary classification problem with red circles (positive class) and blue squares (negative class). In the graph below, the black line represents the hyperplane, separating the two classes.\n",
    "\n"
   ]
  },
  {
   "cell_type": "markdown",
   "id": "967e78c5-27b5-44a4-91db-3158d4dffea2",
   "metadata": {},
   "source": [
    "                +-------------------------+\n",
    "                |       -   -   -   -   +  |\n",
    "                |  -   -   -   -   +       |\n",
    "                |         -   +   -       +|\n",
    "                |   -   -       +       -  |\n",
    "                |   -       +       -   -  |\n",
    "                +-------------------------+\n"
   ]
  },
  {
   "cell_type": "markdown",
   "id": "d2be7653-f5d6-4224-92c7-860fda1244ec",
   "metadata": {},
   "source": [
    "The marginal planes (dashed lines) are parallel to the hyperplane and pass through the support vectors on each side. The distance between the hyperplane and the marginal plane is the margin.\n",
    "\n",
    "Soft Margin and Hard Margin:\n",
    "\n",
    "In SVM, we have the flexibility to control the width of the margin and allow some misclassification of data points to achieve a better fit. This is done using two concepts: soft margin and hard margin.\n",
    "\n",
    "\n",
    "Hard Margin:\n",
    "\n",
    "A hard margin SVM aims to find a hyperplane with the maximum possible margin while ensuring that all data points are correctly classified. This works well when the data is linearly separable. However, in real-world datasets, perfect separability is not always possible.\n",
    "\n",
    "\n",
    "Soft Margin:\n",
    "\n",
    "A soft margin SVM allows for some misclassification of data points to find a hyperplane that separates the data points as best as possible. It introduces a slack variable (ξ) for each data point, which represents the distance between the data point and the correct margin boundary. The objective is to minimize the sum of the slacks (ξ) while also minimizing the norm of the weight vector (||w||).\n",
    "\n",
    "\n",
    "\n",
    "Graphically, soft margin SVM allows some data points to be inside the margin or even on the wrong side of the hyperplane, but it tries to minimize these errors."
   ]
  },
  {
   "cell_type": "markdown",
   "id": "4bd56842-96dd-463e-9a53-abe5f7acc2c6",
   "metadata": {},
   "source": [
    "                       -------------------------------------------------------------------"
   ]
  },
  {
   "cell_type": "markdown",
   "id": "e5cfcd8a-e250-42a7-8424-c3a5f8fe7a69",
   "metadata": {},
   "source": [
    "Q6. SVM Implementation through Iris dataset.\n",
    "\n",
    "~ Load the iris dataset from the scikit-learn library and split it into a training set and a testing set\n",
    "\n",
    "~ Train a linear SVM classifier on the training set and predict the labels for the testing set\n",
    "\n",
    "~ Compute the accuracy of the model on the testing set\n",
    "\n",
    "~ Plot the decision boundaries of the trained model using two of the features\n",
    "\n",
    "~ Try different values of the regularisation parameter C and see how it affects the performance of\n",
    "the model.\n",
    "\n",
    "Bonus task: Implement a linear SVM classifier from scratch using Python and compare its\n",
    "performance with the scikit-learn implementation."
   ]
  },
  {
   "cell_type": "markdown",
   "id": "8f5ec4f9-dded-413f-b97e-d4ac1759a65a",
   "metadata": {},
   "source": [
    "#Answer\n",
    "\n",
    "To implement a linear SVM classifier using Python and compare its performance with the scikit-learn implementation, follow the steps below:\n",
    "\n",
    "Step 1: Load the Iris dataset and split it into a training set and a testing set."
   ]
  },
  {
   "cell_type": "code",
   "execution_count": 1,
   "id": "8051b970-f58e-415f-8ade-3ecdb7356703",
   "metadata": {},
   "outputs": [],
   "source": [
    "from sklearn.datasets import load_iris\n",
    "from sklearn.model_selection import train_test_split\n",
    "\n",
    "# Load the Iris dataset\n",
    "iris = load_iris()\n",
    "X, y = iris.data, iris.target\n",
    "\n",
    "# Split the dataset into a training set and a testing set\n",
    "X_train, X_test, y_train, y_test = train_test_split(X, y, test_size=0.2, random_state=42)\n"
   ]
  },
  {
   "cell_type": "markdown",
   "id": "bd7cdc0e-9bf9-480e-af96-31a91cdc5f73",
   "metadata": {},
   "source": [
    "Step 2: Train a linear SVM classifier on the training set and predict the labels for the testing set."
   ]
  },
  {
   "cell_type": "code",
   "execution_count": 2,
   "id": "bd243db0-6854-4a9e-8c19-d4a7d565501e",
   "metadata": {},
   "outputs": [],
   "source": [
    "from sklearn.svm import SVC\n",
    "\n",
    "# Train a linear SVM classifier\n",
    "svm_classifier = SVC(kernel='linear')\n",
    "svm_classifier.fit(X_train, y_train)\n",
    "\n",
    "# Predict labels for the testing set\n",
    "y_pred = svm_classifier.predict(X_test)\n"
   ]
  },
  {
   "cell_type": "markdown",
   "id": "b1714215-db9f-4cbd-a91a-cd7311f83c80",
   "metadata": {},
   "source": [
    "Step 3: Compute the accuracy of the model on the testing set."
   ]
  },
  {
   "cell_type": "code",
   "execution_count": 3,
   "id": "24f3a419-dcf3-4007-8062-cacbbe31d13e",
   "metadata": {},
   "outputs": [
    {
     "name": "stdout",
     "output_type": "stream",
     "text": [
      "Accuracy: 1.0\n"
     ]
    }
   ],
   "source": [
    "from sklearn.metrics import accuracy_score\n",
    "\n",
    "# Compute the accuracy of the model\n",
    "accuracy = accuracy_score(y_test, y_pred)\n",
    "print(\"Accuracy:\", accuracy)\n"
   ]
  },
  {
   "cell_type": "markdown",
   "id": "bdaa57be-c62f-4e06-a7ed-1276d53b0ac2",
   "metadata": {},
   "source": [
    "Step 4: Plot the decision boundaries of the trained model using two of the features.\n",
    "\n",
    "For this step, we can only visualize the decision boundaries in 2D, so we'll select the first two features of the Iris dataset."
   ]
  },
  {
   "cell_type": "code",
   "execution_count": 6,
   "id": "8a7d1569-6ae8-473c-bb0b-038faab3758d",
   "metadata": {},
   "outputs": [
    {
     "data": {
      "image/png": "[encoded data removed]",
      "text/plain": [
       "<Figure size 640x480 with 1 Axes>"
      ]
     },
     "metadata": {},
     "output_type": "display_data"
    }
   ],
   "source": [
    "import numpy as np\n",
    "import matplotlib.pyplot as plt\n",
    "from sklearn.decomposition import PCA\n",
    "\n",
    "# Perform PCA to reduce the dimensionality to 2D\n",
    "pca = PCA(n_components=2)\n",
    "X_2d = pca.fit_transform(X)\n",
    "\n",
    "# Train a linear SVM classifier\n",
    "svm_classifier = SVC(kernel='linear')\n",
    "svm_classifier.fit(X_2d, y)\n",
    "\n",
    "# Create a meshgrid for visualization\n",
    "x_min, x_max = X_2d[:, 0].min() - 1, X_2d[:, 0].max() + 1\n",
    "y_min, y_max = X_2d[:, 1].min() - 1, X_2d[:, 1].max() + 1\n",
    "xx, yy = np.meshgrid(np.arange(x_min, x_max, 0.01),\n",
    "                     np.arange(y_min, y_max, 0.01))\n",
    "\n",
    "# Predict the labels for the meshgrid points\n",
    "Z = svm_classifier.predict(np.c_[xx.ravel(), yy.ravel()])\n",
    "Z = Z.reshape(xx.shape)\n",
    "\n",
    "# Plot the decision boundaries\n",
    "plt.contourf(xx, yy, Z, alpha=0.8)\n",
    "plt.scatter(X_2d[:, 0], X_2d[:, 1], c=y, cmap=plt.cm.Paired)\n",
    "plt.xlabel('Principal Component 1')\n",
    "plt.ylabel('Principal Component 2')\n",
    "plt.title('Linear SVM Decision Boundaries')\n",
    "plt.show()\n"
   ]
  },
  {
   "cell_type": "markdown",
   "id": "3301eb64-9fc9-46ae-b0a0-908ef3e09188",
   "metadata": {},
   "source": [
    "In this code, we used PCA to project the data onto two principal components, and then we trained the linear SVM classifier and plotted the decision boundaries using these two principal components. The decision boundaries are now visualized in a 2D plot."
   ]
  },
  {
   "cell_type": "markdown",
   "id": "4eaab5ef-cbe3-4fab-8211-55ef3676b130",
   "metadata": {},
   "source": [
    "Step 5: Try different values of the regularization parameter C and see how it affects the performance of the model.\n",
    "\n",
    "The regularization parameter C controls the trade-off between maximizing the margin and minimizing the classification errors. A smaller value of C allows more misclassifications but a wider margin, while a larger value of C leads to fewer misclassifications but a narrower margin."
   ]
  },
  {
   "cell_type": "code",
   "execution_count": 5,
   "id": "192f1389-8480-4566-ab10-1c7bdedba10a",
   "metadata": {},
   "outputs": [
    {
     "name": "stdout",
     "output_type": "stream",
     "text": [
      "Accuracy with C=0.1: 1.00\n",
      "Accuracy with C=1: 1.00\n",
      "Accuracy with C=10: 0.97\n",
      "Accuracy with C=100: 1.00\n"
     ]
    }
   ],
   "source": [
    "C_values = [0.1, 1, 10, 100]\n",
    "\n",
    "for C in C_values:\n",
    "    svm_classifier = SVC(kernel='linear', C=C)\n",
    "    svm_classifier.fit(X_train, y_train)\n",
    "    y_pred = svm_classifier.predict(X_test)\n",
    "    accuracy = accuracy_score(y_test, y_pred)\n",
    "    print(f\"Accuracy with C={C}: {accuracy:.2f}\")\n"
   ]
  },
  {
   "cell_type": "markdown",
   "id": "2f94334b-ec21-4ff3-8e7b-cc8b4366e4f7",
   "metadata": {},
   "source": [
    "The above code will print the accuracy of the SVM classifier with different values of C, allowing you to observe how the regularization parameter affects the model's performance."
   ]
  },
  {
   "cell_type": "markdown",
   "id": "c195c9bd-aba6-49ad-a195-6b541eb54fb2",
   "metadata": {},
   "source": [
    "                        -------------------------------------------------------------------"
   ]
  }
 ],
 "metadata": {
  "kernelspec": {
   "display_name": "Python 3 (ipykernel)",
   "language": "python",
   "name": "python3"
  },
  "language_info": {
   "codemirror_mode": {
    "name": "ipython",
    "version": 3
   },
   "file_extension": ".py",
   "mimetype": "text/x-python",
   "name": "python",
   "nbconvert_exporter": "python",
   "pygments_lexer": "ipython3",
   "version": "3.10.8"
  }
 },
 "nbformat": 4,
 "nbformat_minor": 5
}
